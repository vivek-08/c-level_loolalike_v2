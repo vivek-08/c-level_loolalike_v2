{
 "cells": [
  {
   "cell_type": "code",
   "execution_count": 1,
   "id": "answering-listing",
   "metadata": {},
   "outputs": [],
   "source": [
    "import pandas as pd\n",
    "import numpy as np\n",
    "from google.cloud import bigquery, bigquery_storage\n",
    "from utils import *\n",
    "import warnings \n",
    "warnings.filterwarnings('ignore')\n",
    "\n",
    "import random\n",
    "random.seed(12345)"
   ]
  },
  {
   "cell_type": "code",
   "execution_count": 2,
   "id": "miniature-spokesman",
   "metadata": {},
   "outputs": [],
   "source": [
    "\n",
    "# Join the zoominfo labels with the ga user features\n",
    "query = \"\"\"\n",
    "    SELECT \n",
    "        * EXCEPT (user)\n",
    "    FROM \n",
    "        `api-project-901373404215.lookalike_trail_data.zoominfo_user_feats_feb_april_training_v1` uf\n",
    "    INNER JOIN\n",
    "        `api-project-901373404215.lookalike_data.zoominfo_labels` labels\n",
    "    USING\n",
    "        (GA_fullVisitorId)\n",
    "    \"\"\""
   ]
  },
  {
   "cell_type": "code",
   "execution_count": 3,
   "id": "hairy-audience",
   "metadata": {},
   "outputs": [
    {
     "name": "stdout",
     "output_type": "stream",
     "text": [
      "(250277, 192)\n"
     ]
    }
   ],
   "source": [
    "## Fetching data\n",
    "bqclient = bigquery.Client()\n",
    "bqstorageclient = bigquery_storage.BigQueryReadClient()\n",
    "\n",
    "df = bqclient.query(query).result().to_dataframe(bqstorage_client=bqstorageclient)\n",
    "print(df.shape)\n"
   ]
  },
  {
   "cell_type": "code",
   "execution_count": 4,
   "id": "logical-darkness",
   "metadata": {},
   "outputs": [],
   "source": [
    "#lower case column names\n",
    "df.columns= df.columns.str.lower()"
   ]
  },
  {
   "cell_type": "code",
   "execution_count": 5,
   "id": "equal-metropolitan",
   "metadata": {},
   "outputs": [],
   "source": [
    "#Creating new feature c_level\n",
    "df['c_level']=np.where(df['managementlevel']=='C-Level',1,0)"
   ]
  },
  {
   "cell_type": "code",
   "execution_count": 6,
   "id": "alleged-orchestra",
   "metadata": {},
   "outputs": [
    {
     "data": {
      "text/plain": [
       "0    0.759494\n",
       "1    0.240506\n",
       "Name: c_level, dtype: float64"
      ]
     },
     "execution_count": 6,
     "metadata": {},
     "output_type": "execute_result"
    }
   ],
   "source": [
    "df.c_level.value_counts(normalize=True)"
   ]
  },
  {
   "cell_type": "code",
   "execution_count": 7,
   "id": "unlike-context",
   "metadata": {},
   "outputs": [
    {
     "data": {
      "text/plain": [
       "(128394, 193)"
      ]
     },
     "execution_count": 7,
     "metadata": {},
     "output_type": "execute_result"
    }
   ],
   "source": [
    "#drop duplicates\n",
    "df.drop_duplicates(subset=['ga_fullvisitorid','c_level'],inplace=True)\n",
    "df.shape"
   ]
  },
  {
   "cell_type": "code",
   "execution_count": 8,
   "id": "false-chaos",
   "metadata": {},
   "outputs": [
    {
     "name": "stdout",
     "output_type": "stream",
     "text": [
      "feb_april_training_v1 loaded into BQ\n"
     ]
    }
   ],
   "source": [
    "# Upload to BQ\n",
    "DATASET_ID = 'lookalike_trail_data'\n",
    "TABLE_ID = 'feb_april_training_v1'   #change the name if there is any change in training dates\n",
    "\n",
    "upload_bq(\n",
    "    dataset_id=DATASET_ID,\n",
    "    table_id=TABLE_ID,\n",
    "    df=df,\n",
    "    write_truncate=True # Will overwrite current table\n",
    ")"
   ]
  }
 ],
 "metadata": {
  "environment": {
   "kernel": "python3",
   "name": "tf2-gpu.2-9.m94",
   "type": "gcloud",
   "uri": "gcr.io/deeplearning-platform-release/tf2-gpu.2-9:m94"
  },
  "kernelspec": {
   "display_name": "Python 3",
   "language": "python",
   "name": "python3"
  },
  "language_info": {
   "codemirror_mode": {
    "name": "ipython",
    "version": 3
   },
   "file_extension": ".py",
   "mimetype": "text/x-python",
   "name": "python",
   "nbconvert_exporter": "python",
   "pygments_lexer": "ipython3",
   "version": "3.7.12"
  }
 },
 "nbformat": 4,
 "nbformat_minor": 5
}
